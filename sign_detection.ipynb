{
  "nbformat": 4,
  "nbformat_minor": 0,
  "metadata": {
    "colab": {
      "provenance": []
    },
    "kernelspec": {
      "name": "python3",
      "display_name": "Python 3"
    },
    "language_info": {
      "name": "python"
    }
  },
  "cells": [
    {
      "cell_type": "code",
      "execution_count": 21,
      "metadata": {
        "id": "CBHzeCL_M8DR"
      },
      "outputs": [],
      "source": [
        "Path=\"/content/drive/MyDrive/Kayseria/\"\n"
      ]
    },
    {
      "cell_type": "code",
      "source": [
        "import os, cv2, math\n",
        "from keras.models import Sequential\n",
        "from keras.layers import Conv2D\n",
        "from keras.layers import MaxPooling2D\n",
        "from keras.layers import Flatten\n",
        "from keras.layers import Dense\n",
        "from keras.layers import Dropout\n",
        "from keras.preprocessing.image import ImageDataGenerator\n",
        "from keras.utils import plot_model\n",
        "import numpy as np\n",
        "from keras.preprocessing import image\n",
        "from sklearn.model_selection import train_test_split\n",
        "from shutil import copyfile\n",
        "from tqdm import tqdm\n",
        "import matplotlib.pyplot as plt\n",
        "import matplotlib.image as mpimg\n",
        "%matplotlib inline"
      ],
      "metadata": {
        "id": "kngKcP32SAes"
      },
      "execution_count": 23,
      "outputs": []
    },
    {
      "cell_type": "code",
      "source": [
        "# Performing data augmentation on training dataset\n",
        "train_datagen = ImageDataGenerator(rescale = 1./255,\n",
        "                                   shear_range = 0.2,\n",
        "                                   zoom_range = 0.2,\n",
        "                                   horizontal_flip = True)\n",
        "\n",
        "# For validation dataset, only rescale the pictures\n",
        "validation_datagen = ImageDataGenerator(rescale = 1./255)\n",
        "\n",
        "# For test dataset, only rescale the pictures\n",
        "test_datagen = ImageDataGenerator(rescale = 1./255)\n",
        "\n",
        "training_data = train_datagen.flow_from_directory(os.path.join(Path, 'training_set'),\n",
        "                                                 target_size = (64, 64),\n",
        "                                                 batch_size = 32,\n",
        "                                                 class_mode = 'categorical')\n",
        "\n",
        "validation_data = validation_datagen.flow_from_directory(os.path.join(Path, 'validation_set'),\n",
        "                                                 target_size = (64, 64),\n",
        "                                                 batch_size = 32,\n",
        "                                                 class_mode = 'categorical')\n",
        "\n",
        "test_data = test_datagen.flow_from_directory(os.path.join(Path, 'test_set'),\n",
        "                                            target_size = (64, 64),\n",
        "                                            batch_size = 32,\n",
        "                                            class_mode = 'categorical')"
      ],
      "metadata": {
        "colab": {
          "base_uri": "https://localhost:8080/"
        },
        "id": "MDPua9YsV3fO",
        "outputId": "a50174bb-7234-43b5-cb5b-6fc5e21d547d"
      },
      "execution_count": 28,
      "outputs": [
        {
          "output_type": "stream",
          "name": "stdout",
          "text": [
            "Found 1644 images belonging to 10 classes.\n",
            "Found 208 images belonging to 10 classes.\n",
            "Found 210 images belonging to 10 classes.\n"
          ]
        }
      ]
    },
    {
      "cell_type": "code",
      "source": [
        "# Initialising the CNN\n",
        "classifier = Sequential()\n",
        "\n",
        "# Adding first convolutional layer, followed by pooling, and dropout\n",
        "classifier.add(Conv2D(32, (3, 3), input_shape = (64, 64, 3), activation = 'relu'))\n",
        "classifier.add(MaxPooling2D(pool_size = (2, 2)))\n",
        "classifier.add(Dropout(0.25))\n",
        "\n",
        "# Adding second convolutional layer, followed by pooling, and dropout\n",
        "classifier.add(Conv2D(32, (3, 3), activation = 'relu'))\n",
        "classifier.add(MaxPooling2D(pool_size = (2, 2)))\n",
        "classifier.add(Dropout(0.25))\n",
        "\n",
        "# Adding third convolutional layer, followed by pooling, and dropout\n",
        "classifier.add(Conv2D(32, (3, 3), activation = 'relu'))\n",
        "classifier.add(MaxPooling2D(pool_size = (2, 2)))\n",
        "classifier.add(Dropout(0.25))\n",
        "\n",
        "# Flattening\n",
        "classifier.add(Flatten())\n",
        "\n",
        "# Full connection\n",
        "classifier.add(Dense(units = 128, activation = 'relu'))\n",
        "classifier.add(Dense(units = 10, activation = 'softmax'))\n",
        "\n",
        "# Compiling the CNN\n",
        "classifier.compile(optimizer = 'adam', loss = 'categorical_crossentropy', metrics = ['accuracy'])"
      ],
      "metadata": {
        "id": "OmZU5Xe5Whp2"
      },
      "execution_count": 29,
      "outputs": []
    },
    {
      "cell_type": "code",
      "source": [
        "# Train the data with training set, and check the result with validation accuracy\n",
        "history = classifier.fit_generator(training_data,\n",
        "                         steps_per_epoch = math.ceil(training_data.n / training_data.batch_size),\n",
        "                         epochs = 50,\n",
        "                         validation_data = validation_data,\n",
        "                         validation_steps = math.ceil(validation_data.n / validation_data.batch_size))"
      ],
      "metadata": {
        "colab": {
          "base_uri": "https://localhost:8080/"
        },
        "id": "jXvkNbXDWq9Q",
        "outputId": "adfa994f-39ea-415e-da5a-a61c869d240f"
      },
      "execution_count": 30,
      "outputs": [
        {
          "output_type": "stream",
          "name": "stderr",
          "text": [
            "<ipython-input-30-7623e7b293bf>:2: UserWarning: `Model.fit_generator` is deprecated and will be removed in a future version. Please use `Model.fit`, which supports generators.\n",
            "  history = classifier.fit_generator(training_data,\n"
          ]
        },
        {
          "output_type": "stream",
          "name": "stdout",
          "text": [
            "Epoch 1/50\n",
            "52/52 [==============================] - 17s 317ms/step - loss: 2.3137 - accuracy: 0.0949 - val_loss: 2.3021 - val_accuracy: 0.1779\n",
            "Epoch 2/50\n",
            "52/52 [==============================] - 16s 309ms/step - loss: 2.2979 - accuracy: 0.1180 - val_loss: 2.2801 - val_accuracy: 0.1875\n",
            "Epoch 3/50\n",
            "52/52 [==============================] - 19s 354ms/step - loss: 2.0273 - accuracy: 0.2774 - val_loss: 1.5957 - val_accuracy: 0.4712\n",
            "Epoch 4/50\n",
            "52/52 [==============================] - 16s 302ms/step - loss: 1.5236 - accuracy: 0.4605 - val_loss: 1.1863 - val_accuracy: 0.6250\n",
            "Epoch 5/50\n",
            "52/52 [==============================] - 16s 307ms/step - loss: 1.1971 - accuracy: 0.5864 - val_loss: 0.8762 - val_accuracy: 0.7212\n",
            "Epoch 6/50\n",
            "52/52 [==============================] - 16s 306ms/step - loss: 1.0687 - accuracy: 0.6442 - val_loss: 0.8773 - val_accuracy: 0.7019\n",
            "Epoch 7/50\n",
            "52/52 [==============================] - 16s 301ms/step - loss: 0.9923 - accuracy: 0.6721 - val_loss: 0.7998 - val_accuracy: 0.7644\n",
            "Epoch 8/50\n",
            "52/52 [==============================] - 16s 305ms/step - loss: 0.8676 - accuracy: 0.7141 - val_loss: 0.6345 - val_accuracy: 0.8221\n",
            "Epoch 9/50\n",
            "52/52 [==============================] - 18s 344ms/step - loss: 0.7547 - accuracy: 0.7506 - val_loss: 0.5774 - val_accuracy: 0.8269\n",
            "Epoch 10/50\n",
            "52/52 [==============================] - 16s 303ms/step - loss: 0.7229 - accuracy: 0.7585 - val_loss: 0.5018 - val_accuracy: 0.8269\n",
            "Epoch 11/50\n",
            "52/52 [==============================] - 16s 304ms/step - loss: 0.6268 - accuracy: 0.7962 - val_loss: 0.4201 - val_accuracy: 0.8606\n",
            "Epoch 12/50\n",
            "52/52 [==============================] - 16s 300ms/step - loss: 0.6133 - accuracy: 0.7938 - val_loss: 0.4953 - val_accuracy: 0.8365\n",
            "Epoch 13/50\n",
            "52/52 [==============================] - 16s 302ms/step - loss: 0.5659 - accuracy: 0.8090 - val_loss: 0.3611 - val_accuracy: 0.8990\n",
            "Epoch 14/50\n",
            "52/52 [==============================] - 16s 297ms/step - loss: 0.5057 - accuracy: 0.8345 - val_loss: 0.4091 - val_accuracy: 0.8606\n",
            "Epoch 15/50\n",
            "52/52 [==============================] - 16s 300ms/step - loss: 0.4725 - accuracy: 0.8491 - val_loss: 0.2960 - val_accuracy: 0.8942\n",
            "Epoch 16/50\n",
            "52/52 [==============================] - 18s 350ms/step - loss: 0.4414 - accuracy: 0.8473 - val_loss: 0.2715 - val_accuracy: 0.9087\n",
            "Epoch 17/50\n",
            "52/52 [==============================] - 16s 303ms/step - loss: 0.4126 - accuracy: 0.8595 - val_loss: 0.3314 - val_accuracy: 0.8798\n",
            "Epoch 18/50\n",
            "52/52 [==============================] - 16s 309ms/step - loss: 0.4035 - accuracy: 0.8650 - val_loss: 0.2995 - val_accuracy: 0.8990\n",
            "Epoch 19/50\n",
            "52/52 [==============================] - 16s 313ms/step - loss: 0.3506 - accuracy: 0.8869 - val_loss: 0.2905 - val_accuracy: 0.9038\n",
            "Epoch 20/50\n",
            "52/52 [==============================] - 16s 300ms/step - loss: 0.3143 - accuracy: 0.8978 - val_loss: 0.2687 - val_accuracy: 0.9087\n",
            "Epoch 21/50\n",
            "52/52 [==============================] - 16s 303ms/step - loss: 0.3160 - accuracy: 0.8948 - val_loss: 0.2194 - val_accuracy: 0.9135\n",
            "Epoch 22/50\n",
            "52/52 [==============================] - 18s 343ms/step - loss: 0.2742 - accuracy: 0.9106 - val_loss: 0.1852 - val_accuracy: 0.9423\n",
            "Epoch 23/50\n",
            "52/52 [==============================] - 16s 305ms/step - loss: 0.3024 - accuracy: 0.8978 - val_loss: 0.2348 - val_accuracy: 0.9087\n",
            "Epoch 24/50\n",
            "52/52 [==============================] - 16s 305ms/step - loss: 0.2329 - accuracy: 0.9252 - val_loss: 0.2129 - val_accuracy: 0.9375\n",
            "Epoch 25/50\n",
            "52/52 [==============================] - 16s 301ms/step - loss: 0.2677 - accuracy: 0.9185 - val_loss: 0.2010 - val_accuracy: 0.9423\n",
            "Epoch 26/50\n",
            "52/52 [==============================] - 16s 312ms/step - loss: 0.2375 - accuracy: 0.9264 - val_loss: 0.2067 - val_accuracy: 0.9375\n",
            "Epoch 27/50\n",
            "52/52 [==============================] - 16s 311ms/step - loss: 0.2332 - accuracy: 0.9203 - val_loss: 0.1742 - val_accuracy: 0.9423\n",
            "Epoch 28/50\n",
            "52/52 [==============================] - 16s 303ms/step - loss: 0.2306 - accuracy: 0.9258 - val_loss: 0.1783 - val_accuracy: 0.9567\n",
            "Epoch 29/50\n",
            "52/52 [==============================] - 16s 310ms/step - loss: 0.1987 - accuracy: 0.9410 - val_loss: 0.1666 - val_accuracy: 0.9471\n",
            "Epoch 30/50\n",
            "52/52 [==============================] - 18s 346ms/step - loss: 0.1901 - accuracy: 0.9373 - val_loss: 0.1648 - val_accuracy: 0.9279\n",
            "Epoch 31/50\n",
            "52/52 [==============================] - 16s 307ms/step - loss: 0.1589 - accuracy: 0.9440 - val_loss: 0.1774 - val_accuracy: 0.9423\n",
            "Epoch 32/50\n",
            "52/52 [==============================] - 16s 310ms/step - loss: 0.1604 - accuracy: 0.9483 - val_loss: 0.1377 - val_accuracy: 0.9567\n",
            "Epoch 33/50\n",
            "52/52 [==============================] - 16s 303ms/step - loss: 0.1738 - accuracy: 0.9410 - val_loss: 0.1710 - val_accuracy: 0.9471\n",
            "Epoch 34/50\n",
            "52/52 [==============================] - 16s 307ms/step - loss: 0.1664 - accuracy: 0.9410 - val_loss: 0.1699 - val_accuracy: 0.9423\n",
            "Epoch 35/50\n",
            "52/52 [==============================] - 16s 310ms/step - loss: 0.1710 - accuracy: 0.9422 - val_loss: 0.1779 - val_accuracy: 0.9471\n",
            "Epoch 36/50\n",
            "52/52 [==============================] - 16s 310ms/step - loss: 0.1564 - accuracy: 0.9477 - val_loss: 0.1037 - val_accuracy: 0.9567\n",
            "Epoch 37/50\n",
            "52/52 [==============================] - 18s 349ms/step - loss: 0.1417 - accuracy: 0.9519 - val_loss: 0.1165 - val_accuracy: 0.9567\n",
            "Epoch 38/50\n",
            "52/52 [==============================] - 16s 309ms/step - loss: 0.1642 - accuracy: 0.9513 - val_loss: 0.1600 - val_accuracy: 0.9423\n",
            "Epoch 39/50\n",
            "52/52 [==============================] - 16s 309ms/step - loss: 0.1400 - accuracy: 0.9550 - val_loss: 0.1597 - val_accuracy: 0.9231\n",
            "Epoch 40/50\n",
            "52/52 [==============================] - 16s 308ms/step - loss: 0.1243 - accuracy: 0.9611 - val_loss: 0.1109 - val_accuracy: 0.9663\n",
            "Epoch 41/50\n",
            "52/52 [==============================] - 16s 302ms/step - loss: 0.1254 - accuracy: 0.9568 - val_loss: 0.1833 - val_accuracy: 0.9279\n",
            "Epoch 42/50\n",
            "52/52 [==============================] - 16s 312ms/step - loss: 0.1250 - accuracy: 0.9586 - val_loss: 0.1202 - val_accuracy: 0.9615\n",
            "Epoch 43/50\n",
            "52/52 [==============================] - 16s 302ms/step - loss: 0.1395 - accuracy: 0.9562 - val_loss: 0.1255 - val_accuracy: 0.9615\n",
            "Epoch 44/50\n",
            "52/52 [==============================] - 18s 346ms/step - loss: 0.1239 - accuracy: 0.9617 - val_loss: 0.1160 - val_accuracy: 0.9519\n",
            "Epoch 45/50\n",
            "52/52 [==============================] - 17s 317ms/step - loss: 0.1374 - accuracy: 0.9568 - val_loss: 0.0980 - val_accuracy: 0.9567\n",
            "Epoch 46/50\n",
            "52/52 [==============================] - 16s 305ms/step - loss: 0.1159 - accuracy: 0.9605 - val_loss: 0.1615 - val_accuracy: 0.9519\n",
            "Epoch 47/50\n",
            "52/52 [==============================] - 16s 305ms/step - loss: 0.1011 - accuracy: 0.9659 - val_loss: 0.1522 - val_accuracy: 0.9519\n",
            "Epoch 48/50\n",
            "52/52 [==============================] - 16s 312ms/step - loss: 0.1096 - accuracy: 0.9659 - val_loss: 0.1090 - val_accuracy: 0.9663\n",
            "Epoch 49/50\n",
            "52/52 [==============================] - 16s 309ms/step - loss: 0.1000 - accuracy: 0.9653 - val_loss: 0.1280 - val_accuracy: 0.9567\n",
            "Epoch 50/50\n",
            "52/52 [==============================] - 18s 341ms/step - loss: 0.0877 - accuracy: 0.9757 - val_loss: 0.1255 - val_accuracy: 0.9471\n"
          ]
        }
      ]
    },
    {
      "cell_type": "code",
      "source": [
        "plt.plot(history.history['accuracy'])\n",
        "plt.plot(history.history['val_accuracy'])\n",
        "plt.title('Model Accuracy')\n",
        "plt.ylabel('accuracy')\n",
        "plt.xlabel('epoch')\n",
        "plt.legend(['Training', 'Validation'])"
      ],
      "metadata": {
        "colab": {
          "base_uri": "https://localhost:8080/",
          "height": 312
        },
        "id": "Y1mTpKVrWvMG",
        "outputId": "6d84e4f2-506e-444d-df98-0773b31a2867"
      },
      "execution_count": 34,
      "outputs": [
        {
          "output_type": "execute_result",
          "data": {
            "text/plain": [
              "<matplotlib.legend.Legend at 0x7ff385ed1910>"
            ]
          },
          "metadata": {},
          "execution_count": 34
        },
        {
          "output_type": "display_data",
          "data": {
            "text/plain": [
              "<Figure size 432x288 with 1 Axes>"
            ],
            "image/png": "[encoded data removed]"
          },
          "metadata": {
            "needs_background": "light"
          }
        }
      ]
    },
    {
      "cell_type": "code",
      "source": [
        "# Accuracy of the classifier when evaluated based on the test_set\n",
        "test_loss, test_accuracy = classifier.evaluate_generator(test_data, math.ceil(test_data.n / test_data.batch_size))\n",
        "print(\"Accuracy on test set : {}\".format(test_accuracy))"
      ],
      "metadata": {
        "colab": {
          "base_uri": "https://localhost:8080/"
        },
        "id": "GHDTq_WPXP93",
        "outputId": "f93890ea-b446-474d-9da3-28f7da0ab5e0"
      },
      "execution_count": 35,
      "outputs": [
        {
          "output_type": "stream",
          "name": "stderr",
          "text": [
            "<ipython-input-35-2f8d890b9def>:2: UserWarning: `Model.evaluate_generator` is deprecated and will be removed in a future version. Please use `Model.evaluate`, which supports generators.\n",
            "  test_loss, test_accuracy = classifier.evaluate_generator(test_data, math.ceil(test_data.n / test_data.batch_size))\n"
          ]
        },
        {
          "output_type": "stream",
          "name": "stdout",
          "text": [
            "Accuracy on test set : 0.9809523820877075\n"
          ]
        }
      ]
    },
    {
      "cell_type": "code",
      "source": [],
      "metadata": {
        "id": "kB8QrCgHbHIQ"
      },
      "execution_count": null,
      "outputs": []
    }
  ]
}